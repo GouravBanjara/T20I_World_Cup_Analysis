{
 "cells": [
  {
   "cell_type": "code",
   "execution_count": 1,
   "metadata": {},
   "outputs": [],
   "source": [
    "import pandas as pd\n",
    "import json"
   ]
  },
  {
   "cell_type": "code",
   "execution_count": null,
   "metadata": {},
   "outputs": [],
   "source": [
    "with open('E:\\\\My_1st_Project\\\\t20_json_files\\\\t20_json_files\\\\t20_wc_match_results.json') as f:\n",
    "    data = json.load(f)\n",
    "data"
   ]
  },
  {
   "cell_type": "code",
   "execution_count": null,
   "metadata": {},
   "outputs": [],
   "source": [
    "df = pd.DataFrame(data[0]['matchSummary'])\n",
    "df"
   ]
  },
  {
   "cell_type": "code",
   "execution_count": null,
   "metadata": {},
   "outputs": [],
   "source": [
    "df.shape\n",
    "df.rename({'scorecard':'match_id'}, axis = 1,inplace = True)\n",
    "df"
   ]
  },
  {
   "cell_type": "code",
   "execution_count": null,
   "metadata": {},
   "outputs": [],
   "source": [
    "with open('E:\\\\My_1st_Project\\\\t20_json_files\\\\t20_json_files\\\\t20_wc_batting_summary.json') as g:\n",
    "    data1 = json.load(g)\n",
    "data1"
   ]
  },
  {
   "cell_type": "code",
   "execution_count": null,
   "metadata": {},
   "outputs": [],
   "source": [
    "records = []\n",
    "for rec in data1:\n",
    "    records.extend(rec['battingSummary'])\n",
    "records"
   ]
  },
  {
   "cell_type": "code",
   "execution_count": null,
   "metadata": {},
   "outputs": [],
   "source": [
    "df1 = pd.DataFrame(records) \n",
    "df1 "
   ]
  },
  {
   "cell_type": "code",
   "execution_count": null,
   "metadata": {},
   "outputs": [],
   "source": [
    "df1['Out/Not_out'] = df1.dismissal.apply(lambda x: 'Not out' if x == 'Not out' else 'Out')\n",
    "df1"
   ]
  },
  {
   "cell_type": "code",
   "execution_count": null,
   "metadata": {},
   "outputs": [],
   "source": [
    "df1.loc[0:50]\n",
    "df.head(5)"
   ]
  },
  {
   "cell_type": "code",
   "execution_count": null,
   "metadata": {},
   "outputs": [],
   "source": [
    "df1['batsmanName'] = df1['batsmanName'].apply(lambda x: x.replace('â€', ''))\n",
    "df1['dismissal'] = df1['dismissal'].apply(lambda x: x.replace('â€', ''))\n",
    "df1['dismissal'] = df1['dismissal'].apply(lambda x: 'Not out' if x =='' else x)\n",
    "df1.loc[1:2]"
   ]
  },
  {
   "cell_type": "code",
   "execution_count": null,
   "metadata": {},
   "outputs": [],
   "source": [
    "df.head(2)"
   ]
  },
  {
   "cell_type": "code",
   "execution_count": null,
   "metadata": {},
   "outputs": [],
   "source": [
    "df1.head(2)"
   ]
  },
  {
   "cell_type": "code",
   "execution_count": null,
   "metadata": {},
   "outputs": [],
   "source": [
    "df2 = pd.DataFrame({'team1':df['team1'], 'team2':df['team2'], 'match_id':df['match_id']})\n",
    "df2\n",
    "df2['match1'] = df2['team1']+' Vs '+df2['team2']\n",
    "df2['match2'] = df2['team2']+' Vs '+df2['team1']\n",
    "df2.head(2)"
   ]
  },
  {
   "cell_type": "code",
   "execution_count": null,
   "metadata": {},
   "outputs": [],
   "source": [
    "for i, row in df1.iterrows():\n",
    "    for i2, row2 in df2.iterrows():\n",
    "        if(row['match'] == row2['match1'] or row['match'] == row2['match2']):\n",
    "            df1['match_id'][i] = row2['match_id']\n",
    "            break\n",
    "df1"
   ]
  },
  {
   "cell_type": "code",
   "execution_count": null,
   "metadata": {},
   "outputs": [],
   "source": [
    "df1.loc[555:555]"
   ]
  },
  {
   "cell_type": "code",
   "execution_count": null,
   "metadata": {},
   "outputs": [],
   "source": [
    "df.loc[df['match_id'] == 'T20I # 1861'].head(2)"
   ]
  },
  {
   "cell_type": "code",
   "execution_count": null,
   "metadata": {},
   "outputs": [],
   "source": [
    "with open('E:\\\\My_1st_Project\\\\t20_json_files\\\\t20_json_files\\\\t20_wc_bowling_summary.json') as g:\n",
    "    data2 = json.load(g)\n",
    "data2\n",
    "records2 = []\n",
    "for rec in data2:\n",
    "    records2.extend(rec['bowlingSummary'])\n",
    "records2"
   ]
  },
  {
   "cell_type": "code",
   "execution_count": null,
   "metadata": {},
   "outputs": [],
   "source": [
    "df3 = pd.DataFrame(records2)\n",
    "df2.head(5)"
   ]
  },
  {
   "cell_type": "code",
   "execution_count": null,
   "metadata": {},
   "outputs": [],
   "source": [
    "df3.rename(columns = {'runs':'runs_given'}, inplace=True)\n",
    "for i,row in df3.iterrows():\n",
    "    for i1, row2 in df2.iterrows():\n",
    "        if (row['match'] == row2['match1'] or row['match']== row2['match2']):\n",
    "            df3['match_id'][i] = row2['match_id']\n",
    "            break\n",
    "df3"
   ]
  },
  {
   "cell_type": "code",
   "execution_count": null,
   "metadata": {},
   "outputs": [],
   "source": [
    "df3.loc[155:155]"
   ]
  },
  {
   "cell_type": "code",
   "execution_count": null,
   "metadata": {},
   "outputs": [],
   "source": [
    "df2.loc[df2['match_id'] == 'T20I # 1839']"
   ]
  },
  {
   "cell_type": "code",
   "execution_count": null,
   "metadata": {},
   "outputs": [],
   "source": [
    "with open('E:\\My_1st_Project\\\\t20_json_files\\\\t20_json_files\\\\t20_wc_player_info.json') as f:\n",
    "    data3 = json.load(f)\n",
    "data3"
   ]
  },
  {
   "cell_type": "code",
   "execution_count": null,
   "metadata": {},
   "outputs": [],
   "source": [
    "df4 = pd.DataFrame(data3)\n",
    "df4"
   ]
  },
  {
   "cell_type": "code",
   "execution_count": null,
   "metadata": {},
   "outputs": [],
   "source": [
    "for i,row in df4.iterrows():\n",
    "    if(row['description'] == ''):\n",
    "        row['description'] = 'N/A'\n",
    "df4.tail(20)"
   ]
  },
  {
   "cell_type": "code",
   "execution_count": null,
   "metadata": {},
   "outputs": [],
   "source": [
    "df1.head(20)"
   ]
  },
  {
   "cell_type": "code",
   "execution_count": null,
   "metadata": {},
   "outputs": [],
   "source": [
    "for i1, row1 in df1.iterrows():\n",
    "    if (row('SR') =='-'):\n",
    "        batsman = row['batsmanName']\n",
    "        avg =         \n",
    " "
   ]
  },
  {
   "cell_type": "code",
   "execution_count": null,
   "metadata": {},
   "outputs": [],
   "source": [
    "adg = df1.loc[df1['batsmanName'] == 'Bhanuka Rajapaksa']\n",
    "adg\n",
    "avg = df1.loc[df1['batsmanName'] == 'Bhanuka Rajapaksa', 'SR'].mean()"
   ]
  },
  {
   "cell_type": "code",
   "execution_count": null,
   "metadata": {},
   "outputs": [],
   "source": [
    "df4['name'] = df4['name'].apply(lambda x: x.replace('â€', ''))\n",
    "df4['name'] = df4['name'].apply(lambda x: x.replace('Â ', ''))\n",
    "df4['name'] = df4['name'].apply(lambda x: x.replace('†', ''))\n",
    "df4['name'] = df4['name'].apply(lambda x: x.replace('\\xa0', ''))\n",
    "df4['bowlingStyle'] = df4['bowlingStyle'].apply(lambda x: 'N/A' if x == '' else x)\n",
    "df4.head(5)"
   ]
  },
  {
   "cell_type": "code",
   "execution_count": null,
   "metadata": {},
   "outputs": [],
   "source": [
    "df.to_csv(\"E:\\\\My_1st_Project\\\\CSV files\\\\match_result.csv\", index = False)\n",
    "df1.to_csv(\"E:\\My_1st_Project\\CSV files\\\\batting_result.csv\", index = False)\n",
    "df3.to_csv(\"E:\\My_1st_Project\\CSV files\\\\bowling_result.csv\", index = False)\n",
    "df4.to_csv(\"E:\\My_1st_Project\\CSV files\\player_info.csv\", index = False)"
   ]
  }
 ],
 "metadata": {
  "kernelspec": {
   "display_name": "Python 3",
   "language": "python",
   "name": "python3"
  },
  "language_info": {
   "codemirror_mode": {
    "name": "ipython",
    "version": 3
   },
   "file_extension": ".py",
   "mimetype": "text/x-python",
   "name": "python",
   "nbconvert_exporter": "python",
   "pygments_lexer": "ipython3",
   "version": "3.12.1"
  }
 },
 "nbformat": 4,
 "nbformat_minor": 2
}
